{
 "cells": [
  {
   "cell_type": "markdown",
   "id": "22179dec-0507-4247-968f-661cd18f31ab",
   "metadata": {},
   "source": [
    "### Variables :\n",
    "En Python, une variable est un espace de stockage qui contient \n",
    "une valeur pouvant être modifiée tout au long du programme. Par exemple :"
   ]
  },
  {
   "cell_type": "code",
   "execution_count": 11,
   "id": "47f51eb0-178c-4402-95ae-7f07290bfdee",
   "metadata": {},
   "outputs": [
    {
     "name": "stdout",
     "output_type": "stream",
     "text": [
      "nom :  kim taehyung ,age :  26\n"
     ]
    }
   ],
   "source": [
    "x = 5\n",
    "nom = \"kim taehyung\"\n",
    "age = 26\n",
    "print(\"nom : \",nom ,\",age : \" , age )"
   ]
  },
  {
   "cell_type": "markdown",
   "id": "3b35e173-70c0-496c-9a8e-23192030a3dd",
   "metadata": {},
   "source": [
    "### Conditions :\n",
    "Les conditions sont utilisées pour exécuter différents morceaux\n",
    "de code en fonction de lévaluation dune expression booléenne. Les structures de contrôle\n",
    "conditionnelles les plus courantes en Python sont if, elif (abréviation de \"else if\") et else. Par exemple :"
   ]
  },
  {
   "cell_type": "code",
   "execution_count": 4,
   "id": "ca2fe5ed-9a3b-4eb5-9803-29cb7c4d909f",
   "metadata": {},
   "outputs": [
    {
     "name": "stdout",
     "output_type": "stream",
     "text": [
      "You are an adult.\n"
     ]
    }
   ],
   "source": [
    "if age >= 18:\n",
    "    print(\"You are an adult.\")\n",
    "else:\n",
    "    print(\"You are a minor.\")\n"
   ]
  },
  {
   "cell_type": "markdown",
   "id": "cb4f29b6-275c-4d2a-a398-7b7b58e1fa08",
   "metadata": {},
   "source": [
    "### Boucles :\n",
    "Les boucles permettent d'exécuter une série d'instructions plusieurs fois.\n",
    "En Python, les boucles for et while sont utilisées. Par exemple :"
   ]
  },
  {
   "cell_type": "code",
   "execution_count": 5,
   "id": "32c93126-5212-4eaf-aaea-4e555716f3fe",
   "metadata": {},
   "outputs": [
    {
     "name": "stdout",
     "output_type": "stream",
     "text": [
      "0\n",
      "1\n",
      "2\n",
      "3\n",
      "4\n",
      "5\n",
      "6\n",
      "7\n",
      "8\n",
      "9\n",
      "10\n",
      "11\n",
      "12\n",
      "13\n",
      "14\n",
      "15\n",
      "16\n",
      "17\n",
      "18\n",
      "19\n",
      "20\n",
      "21\n",
      "22\n",
      "5\n"
     ]
    }
   ],
   "source": [
    "for i in range(23):\n",
    "    print(i)\n",
    "\n",
    "while x < 6:\n",
    "    print(x)\n",
    "    x += 1\n"
   ]
  },
  {
   "cell_type": "markdown",
   "id": "2e072971-cc2c-416b-b402-713fe9ead2aa",
   "metadata": {},
   "source": [
    "### Fonctions :\n",
    "Une fonction est un bloc de code réutilisable qui effectue une tâche spécifique.\n",
    "Elle peut accepter des arguments en entrée et renvoyer une valeur en sortie. Par exemple :"
   ]
  },
  {
   "cell_type": "code",
   "execution_count": 3,
   "id": "9820a8d2-c861-4c43-98bb-96ec1d5f2661",
   "metadata": {},
   "outputs": [
    {
     "name": "stdout",
     "output_type": "stream",
     "text": [
      "6227020800\n"
     ]
    }
   ],
   "source": [
    "def factorial(n):\n",
    "    \"\"\"Calculates the factorial of a given number.\"\"\"\n",
    "    if n == 0:\n",
    "        return 1\n",
    "    else:\n",
    "        result = 1\n",
    "        for i in range(1, n + 1):\n",
    "            result *= i\n",
    "        return result\n",
    "\n",
    "# Example usage:\n",
    "print(factorial(13))  \n"
   ]
  },
  {
   "cell_type": "markdown",
   "id": "e23af956-c6ea-4f6e-980c-13599acbafe4",
   "metadata": {},
   "source": [
    "### Listes :\n",
    "Une liste est une structure de données qui permet de stocker une collection ordonnée d'éléments. \n",
    "Les éléments d'une liste peuvent être modifiés. Par exemple :"
   ]
  },
  {
   "cell_type": "code",
   "execution_count": null,
   "id": "f4c83ac8-b0d1-496a-91e0-5023f72edb71",
   "metadata": {},
   "outputs": [],
   "source": [
    "liste = [1, 2, 3, 4, 5]\n"
   ]
  },
  {
   "cell_type": "markdown",
   "id": "cf52b451-98c8-4833-9254-4e7e4d05bcb2",
   "metadata": {},
   "source": [
    "### Tuples :\n",
    "Un tuple est similaire à une liste, mais il est immuable,\n",
    "ce qui signifie que ses éléments ne peuvent pas être modifiés une fois qu'il est créé. Par exemple :"
   ]
  },
  {
   "cell_type": "markdown",
   "id": "fb37760b-35ed-4e30-960d-0a2de1003327",
   "metadata": {},
   "source": [
    "myTruple = (3,5,9,8)"
   ]
  },
  {
   "cell_type": "markdown",
   "id": "75f1ecce-17bd-4a0a-80ff-bc6e48a3566a",
   "metadata": {},
   "source": [
    "### Dictionnaires :\n",
    "Un dictionnaire est une structure de données qui associe des paires clé-valeur. \n",
    "Les clés doivent être uniques et immuables. Par exemple :"
   ]
  },
  {
   "cell_type": "code",
   "execution_count": null,
   "id": "d51c9f5b-2f12-48a7-a333-81c48dc525e2",
   "metadata": {},
   "outputs": [],
   "source": [
    "hype = {\"nom\": \"kim taehyung \",\"kpop groupe\": \"bts\", \"age\": 26}"
   ]
  },
  {
   "cell_type": "markdown",
   "id": "e33d2c35-e09a-4c44-818d-0cd15e05e89e",
   "metadata": {},
   "source": [
    "### Découverte des modules os, math, random et re :"
   ]
  },
  {
   "cell_type": "markdown",
   "id": "e278b04c-ca79-483d-9b66-5eaccc8e81a1",
   "metadata": {},
   "source": [
    "### os :\n",
    "Le module os fournit des fonctions pour interagir avec le système d'exploitation, comme la manipulation de fichiers et de répertoires."
   ]
  },
  {
   "cell_type": "code",
   "execution_count": null,
   "id": "8f14d79d-d8cd-452b-86c6-6b83ce7ba165",
   "metadata": {},
   "outputs": [],
   "source": [
    "import os\n",
    "current_directory = os.getcwd()  #Obtenir le répertoire de travail actuel\n",
    "print(\"Répertoire de travail actuel :\", current_directory)\n"
   ]
  },
  {
   "cell_type": "code",
   "execution_count": null,
   "id": "1eac4451-259d-4977-8f6d-166c911ea072",
   "metadata": {},
   "outputs": [],
   "source": [
    "import os\n",
    "file_to_delete = \"fichier_a_supprimer.txt\"  #Supprimer un fichier \n",
    "os.remove(file_to_delete)\n"
   ]
  },
  {
   "cell_type": "markdown",
   "id": "334d3268-d486-473a-90d1-12cb88aabcdd",
   "metadata": {},
   "source": [
    "### math :\n",
    "Le module math fournit des fonctions mathématiques standard telles que le calcul de sinus, de cosinus, de logarithmes, etc."
   ]
  },
  {
   "cell_type": "code",
   "execution_count": 6,
   "id": "12f037f0-8ecc-4383-b0d3-980dacbd4bca",
   "metadata": {},
   "outputs": [
    {
     "name": "stdout",
     "output_type": "stream",
     "text": [
      "Racine carrée de 16 : 4.0\n"
     ]
    }
   ],
   "source": [
    "import math #Calculer la racine carrée d'un nombre\n",
    "nombre = 16\n",
    "racine_carree = math.sqrt(nombre)\n",
    "print(\"Racine carrée de\", nombre, \":\", racine_carree)\n"
   ]
  },
  {
   "cell_type": "code",
   "execution_count": 7,
   "id": "82599df5-afe5-476b-b19e-9b286945e842",
   "metadata": {},
   "outputs": [
    {
     "name": "stdout",
     "output_type": "stream",
     "text": [
      "Logarithme en base 10 de 100 : 2.0\n"
     ]
    }
   ],
   "source": [
    "import math #Calculer le logarithme d'un nombre en base 10\n",
    "nombre = 100\n",
    "logarithme_base_10 = math.log10(nombre)\n",
    "print(\"Logarithme en base 10 de\", nombre, \":\", logarithme_base_10)\n"
   ]
  },
  {
   "cell_type": "markdown",
   "id": "73bfb010-4153-4265-b8ef-3b1b2ae0eeb0",
   "metadata": {},
   "source": [
    "### random :\n",
    "Le module random est utilisé pour générer des nombres aléatoires et effectuer des opérations liées au hasard."
   ]
  },
  {
   "cell_type": "code",
   "execution_count": 8,
   "id": "38062175-c49c-4d04-aff7-d7f45b01670f",
   "metadata": {},
   "outputs": [
    {
     "name": "stdout",
     "output_type": "stream",
     "text": [
      "Nombre aléatoire entre 0 et 1 : 0.37885960235346783\n"
     ]
    }
   ],
   "source": [
    "import random #Générer un nombre aléatoire entre 0 et 1\n",
    "nombre_aleatoire = random.random()\n",
    "print(\"Nombre aléatoire entre 0 et 1 :\", nombre_aleatoire)\n"
   ]
  },
  {
   "cell_type": "code",
   "execution_count": 9,
   "id": "2eec87b1-bd72-453a-8e05-c4da3dd6acd5",
   "metadata": {},
   "outputs": [
    {
     "name": "stdout",
     "output_type": "stream",
     "text": [
      "Nombre aléatoire entre 1 et 100 : 55\n"
     ]
    }
   ],
   "source": [
    "import random\n",
    "nombre_aleatoire = random.randint(1, 100)  # Nombre aléatoire entre 1 et 100 inclus\n",
    "print(\"Nombre aléatoire entre 1 et 100 :\", nombre_aleatoire)\n"
   ]
  },
  {
   "cell_type": "markdown",
   "id": "dad1f829-60c9-4585-9b2c-51eeda7b9049",
   "metadata": {},
   "source": [
    "### re :\n",
    "Le module re permet de travailler avec des expressions régulières, ce qui est utile pour rechercher et manipuler des motifs de texte dans les chaînes de caractères."
   ]
  },
  {
   "cell_type": "code",
   "execution_count": 13,
   "id": "549778a2-fb5d-443f-ac67-974abbede226",
   "metadata": {},
   "outputs": [
    {
     "name": "stdout",
     "output_type": "stream",
     "text": [
      "Motif trouvé : BTS\n"
     ]
    }
   ],
   "source": [
    "import re\n",
    "chaine = \"Bonjour, je suis jeon jungkook from BTS .\"\n",
    "motif = \"BTS\"\n",
    "resultat = re.search(motif, chaine)\n",
    "if resultat:\n",
    "    print(\"Motif trouvé :\", resultat.group())\n",
    "else:\n",
    "    print(\"Motif non trouvé.\")\n"
   ]
  },
  {
   "cell_type": "markdown",
   "id": "c0d2b7e2-c775-4261-8ec7-48c1b1c64a9e",
   "metadata": {},
   "source": [
    "### Scientific computing"
   ]
  },
  {
   "cell_type": "markdown",
   "id": "8eb8c0f3-80f9-488a-a076-170cf4fb82d6",
   "metadata": {},
   "source": [
    "### NumPy \n",
    " numby est une bibliothèque fondamentale en Python pour le calcul scientifique et numérique.\n",
    "to install it :"
   ]
  },
  {
   "cell_type": "code",
   "execution_count": null,
   "id": "78b3872b-7dc0-4ff0-a1f2-c6af8b73f740",
   "metadata": {},
   "outputs": [],
   "source": [
    "pip install numpy\n",
    "#on the terminal "
   ]
  },
  {
   "cell_type": "markdown",
   "id": "442d7355-ee16-4329-a601-183716a4d35f",
   "metadata": {},
   "source": [
    "### Manipulation des tableaux :\n"
   ]
  },
  {
   "cell_type": "markdown",
   "id": "39039b5f-d46b-4524-8c06-82ddc1195ef1",
   "metadata": {},
   "source": [
    "### Création de tableaux :\n",
    "Les tableaux NumPy peuvent être créés en utilisant la fonction numpy.array()."
   ]
  },
  {
   "cell_type": "code",
   "execution_count": 14,
   "id": "c16cd198-3168-4b34-9133-f8014bcaf281",
   "metadata": {},
   "outputs": [
    {
     "name": "stdout",
     "output_type": "stream",
     "text": [
      "[1 2 3 4 5]\n",
      "[[1 2 3]\n",
      " [4 5 6]]\n",
      "[[0. 0. 0.]\n",
      " [0. 0. 0.]\n",
      " [0. 0. 0.]]\n",
      "[[1. 1.]\n",
      " [1. 1.]]\n",
      "[1 3 5 7 9]\n"
     ]
    }
   ],
   "source": [
    "import numpy as np\n",
    "\n",
    "# Création d'un tableau 1D\n",
    "arr_1d = np.array([1, 2, 3, 4, 5])\n",
    "print(arr_1d)\n",
    "# Création d'un tableau 2D (matrice)\n",
    "arr_2d = np.array([[1, 2, 3], [4, 5, 6]])\n",
    "print(arr_2d)\n",
    "# Création d'un tableau de zéros\n",
    "zeros_array = np.zeros((3, 3))  # Crée un tableau 3x3 de zéros\n",
    "print(zeros_array)\n",
    "# Création d'un tableau de uns\n",
    "ones_array = np.ones((2, 2))  # Crée un tableau 2x2 de uns\n",
    "print(ones_array)\n",
    "# Création d'un tableau avec une plage de valeurs\n",
    "range_array = np.arange(1, 10, 2)  # Crée un tableau de 1 à 9 avec un pas de 2\n",
    "print(range_array)"
   ]
  },
  {
   "cell_type": "markdown",
   "id": "f53105d0-b273-4e9d-847a-86fe58575831",
   "metadata": {},
   "source": [
    "### Indexation des tableaux :\n",
    "Vous pouvez accéder aux éléments des tableaux NumPy en utilisant l'indexation, similaire aux listes Python. Voici un exemple :"
   ]
  },
  {
   "cell_type": "code",
   "execution_count": 15,
   "id": "373f2cc7-064e-4a99-89a7-7747d143c02b",
   "metadata": {},
   "outputs": [
    {
     "name": "stdout",
     "output_type": "stream",
     "text": [
      "1\n"
     ]
    }
   ],
   "source": [
    "import numpy as np\n",
    "\n",
    "arr_2d = np.array([[1, 2, 3], [4, 5, 6]])\n",
    "\n",
    "# Accès aux éléments\n",
    "print(arr_2d[0, 0])  # Accède à l'élément de la première ligne, première colonne\n"
   ]
  },
  {
   "cell_type": "markdown",
   "id": "fc61f0cf-c4f0-4e42-af8a-893474b8ef9e",
   "metadata": {},
   "source": [
    "### Diffusion (Broadcasting)\n",
    "Les tableaux NumPy prennent en charge la diffusion, ce qui permet des opérations arithmétiques entre des tableaux de formes et de tailles différentes. Par exemple :"
   ]
  },
  {
   "cell_type": "code",
   "execution_count": 16,
   "id": "192988a6-f88e-47d3-b9e4-9ac0e0ea0a3b",
   "metadata": {},
   "outputs": [
    {
     "name": "stdout",
     "output_type": "stream",
     "text": [
      "[[ 2  4  6]\n",
      " [ 8 10 12]]\n"
     ]
    }
   ],
   "source": [
    "import numpy as np\n",
    "\n",
    "arr = np.array([[1, 2, 3], [4, 5, 6]])\n",
    "scalaire = 2\n",
    "\n",
    "# Diffusion du scalaire dans le tableau\n",
    "resultat = arr * scalaire\n",
    "print(resultat)\n"
   ]
  },
  {
   "cell_type": "markdown",
   "id": "1cd9ffbe-638c-4275-b89a-0b01cd8c4df3",
   "metadata": {},
   "source": [
    "### Copie et Vue :\n",
    "Les tableaux NumPy prennent en charge la copie et la vue. Une vue est une copie superficielle du tableau, tandis qu'une copie crée une copie complète du tableau et de ses données"
   ]
  },
  {
   "cell_type": "code",
   "execution_count": 17,
   "id": "e56121c7-ee1c-4200-b342-862ecfd1d738",
   "metadata": {},
   "outputs": [],
   "source": [
    "import numpy as np\n",
    "\n",
    "arr = np.array([1, 2, 3, 4, 5])\n",
    "\n",
    "# Copie superficielle (vue)\n",
    "arr_vue = arr.view()\n",
    "\n",
    "# Copie profonde\n",
    "arr_copie = arr.copy()\n"
   ]
  },
  {
   "cell_type": "markdown",
   "id": "b1a9a8d6-fc2c-41a2-a1dd-e728beb9c53e",
   "metadata": {},
   "source": [
    "### Pandas\n",
    "Pandas est une bibliothèque Python largement utilisée pour l'analyse et la manipulation de données."
   ]
  },
  {
   "cell_type": "code",
   "execution_count": null,
   "id": "fa0a6b5c-42ae-4191-9f22-952bb710b193",
   "metadata": {},
   "outputs": [],
   "source": [
    "#to install pandas \n",
    "pip install pandas"
   ]
  },
  {
   "cell_type": "markdown",
   "id": "b51b9d3b-a5c3-4b69-88dd-d4c84d851c20",
   "metadata": {},
   "source": [
    "### Création de Données :\n",
    "en peux créer des structures de données (comme les séries et les dataframes) en utilisant Pandas.  exemples :"
   ]
  },
  {
   "cell_type": "code",
   "execution_count": null,
   "id": "09cfb593-f221-4ead-9989-36deff38eb8c",
   "metadata": {},
   "outputs": [],
   "source": [
    "import pandas as pd\n",
    "\n",
    "# Création d'une série\n",
    "serie = pd.Series([1, 2, 3, 4, 5])\n",
    "\n",
    "# Création d'un dataframe à partir d'un dictionnaire\n",
    "data = {'Nom': ['v', 'jk', 'jin', 'RM'],\n",
    "        'Âge': [25, 30, 35, 40]}\n",
    "dataframe = pd.DataFrame(data)\n"
   ]
  },
  {
   "cell_type": "markdown",
   "id": "9dbb33f9-19b7-43f0-9f49-49cb0b41f6aa",
   "metadata": {},
   "source": [
    "### Manipulation de Données :\n",
    "Pandas offre de nombreuses fonctionnalités pour manipuler et analyser des données. en peux effectuer des opérations telles que le filtrage, le tri, le regroupement, etc."
   ]
  },
  {
   "cell_type": "code",
   "execution_count": null,
   "id": "94553630-9141-4143-a5ef-fbd967435f06",
   "metadata": {},
   "outputs": [],
   "source": [
    "import pandas as pd\n",
    "\n",
    "# Filtrer les données\n",
    "dataframe_filtré = dataframe[dataframe['Âge'] > 30]\n",
    "\n",
    "# Trier les données\n",
    "dataframe_trié = dataframe.sort_values(by='Âge')\n",
    "\n",
    "# Regrouper les données par colonne\n",
    "groupe = dataframe.groupby('Âge').count()\n"
   ]
  },
  {
   "cell_type": "markdown",
   "id": "dda1a5cc-1f1f-4ef2-aa64-a7281faf643b",
   "metadata": {},
   "source": [
    "### Structures de Données :\n",
    "\n",
    "Pandas propose deux structures de données principales : les séries (Series) et les dataframes (DataFrame).\n",
    "\n",
    "Une série est une structure de données unidimensionnelle, similaire à un tableau ou une liste en Python.\n",
    "\n",
    "Un dataframe est une structure de données bidimensionnelle, similaire à une feuille de calcul ou une table de base de données.\n",
    "\n",
    "Les dataframes sont particulièrement utiles pour analyser et manipuler des données tabulaires. Ils vous permettent de travailler avec des données hétérogènes, d'effectuer des opérations de fusion et de jointure, et de manipuler des données manquantes."
   ]
  },
  {
   "cell_type": "markdown",
   "id": "4a70a090-78ca-484c-a905-e6f6e6ccfdb2",
   "metadata": {},
   "source": [
    "### Matplotlib\n",
    "Matplotlib est une bibliothèque Python très populaire pour la visualisation de données."
   ]
  },
  {
   "cell_type": "code",
   "execution_count": null,
   "id": "ae60a0eb-b30a-40e9-aa53-1a9002d4bafc",
   "metadata": {},
   "outputs": [],
   "source": [
    "#to install it \n",
    "pip install matplotlib"
   ]
  },
  {
   "cell_type": "markdown",
   "id": "6f0c2c8e-52d9-4113-a144-5b6cc3814796",
   "metadata": {},
   "source": [
    "### Line Plot:"
   ]
  },
  {
   "cell_type": "code",
   "execution_count": null,
   "id": "1b727a2f-9514-4134-9b7e-49dc60402263",
   "metadata": {},
   "outputs": [],
   "source": [
    "import matplotlib.pyplot as plt\n",
    "\n",
    "# Data\n",
    "x = [1, 2, 3, 4, 5]\n",
    "y = [2, 3, 5, 7, 11]\n",
    "\n",
    "# Create a line plot\n",
    "plt.plot(x, y)\n",
    "\n",
    "# Add labels and title\n",
    "plt.xlabel('X-axis')\n",
    "plt.ylabel('Y-axis')\n",
    "plt.title('Line Plot')\n",
    "\n",
    "# Show plot\n",
    "plt.show()\n"
   ]
  },
  {
   "cell_type": "markdown",
   "id": "7a3f1f23-c9ce-426b-b6fe-a0df48080361",
   "metadata": {},
   "source": [
    "### Scatter Plot:"
   ]
  },
  {
   "cell_type": "code",
   "execution_count": null,
   "id": "b14c273d-76a7-4851-92b3-d12c0b4148f5",
   "metadata": {},
   "outputs": [],
   "source": [
    "import matplotlib.pyplot as plt\n",
    "\n",
    "# Data\n",
    "x = [1, 2, 3, 4, 5]\n",
    "y = [2, 3, 5, 7, 11]\n",
    "\n",
    "# Create a scatter plot\n",
    "plt.scatter(x, y)\n",
    "\n",
    "# Add labels and title\n",
    "plt.xlabel('X-axis')\n",
    "plt.ylabel('Y-axis')\n",
    "plt.title('Scatter Plot')\n",
    "\n",
    "# Show plot\n",
    "plt.show()\n"
   ]
  },
  {
   "cell_type": "markdown",
   "id": "fa52c231-6784-4702-910b-12414ea39f9c",
   "metadata": {},
   "source": [
    "### Image Plot:"
   ]
  },
  {
   "cell_type": "code",
   "execution_count": null,
   "id": "9d3f98b1-14ac-4b4e-8b4d-56403c30e3b9",
   "metadata": {},
   "outputs": [],
   "source": [
    "import matplotlib.pyplot as plt\n",
    "import numpy as np\n",
    "\n",
    "# Generate random image data\n",
    "image_data = np.random.rand(100, 100)\n",
    "\n",
    "# Display the image\n",
    "plt.imshow(image_data, cmap='gray')\n",
    "\n",
    "# Hide axes\n",
    "plt.axis('off')\n",
    "\n",
    "# Show plot\n",
    "plt.show()\n"
   ]
  }
 ],
 "metadata": {
  "kernelspec": {
   "display_name": "Python 3 (ipykernel)",
   "language": "python",
   "name": "python3"
  },
  "language_info": {
   "codemirror_mode": {
    "name": "ipython",
    "version": 3
   },
   "file_extension": ".py",
   "mimetype": "text/x-python",
   "name": "python",
   "nbconvert_exporter": "python",
   "pygments_lexer": "ipython3",
   "version": "3.12.2"
  }
 },
 "nbformat": 4,
 "nbformat_minor": 5
}
